{
 "cells": [
  {
   "cell_type": "code",
   "execution_count": 16,
   "metadata": {
    "pycharm": {
     "name": "#%%\n"
    }
   },
   "outputs": [],
   "source": [
    "from __future__ import print_function\n",
    "\n",
    "import keras\n",
    "from keras.datasets import boston_housing\n",
    "from keras.models import Sequential\n",
    "from keras.layers import Dense, Dropout\n",
    "from keras.optimizers import RMSprop\n",
    "from keras import layers\n",
    "\n",
    "import matplotlib.pyplot as plt\n",
    "\n",
    "import numpy as np"
   ]
  },
  {
   "cell_type": "code",
   "execution_count": 17,
   "metadata": {
    "pycharm": {
     "name": "#%%\n"
    }
   },
   "outputs": [],
   "source": [
    "batch_size = 128\n",
    "num_classes = 10\n",
    "epochs = 50\n"
   ]
  },
  {
   "cell_type": "code",
   "execution_count": 18,
   "metadata": {
    "scrolled": false
   },
   "outputs": [
    {
     "name": "stdout",
     "output_type": "stream",
     "text": [
      "404 train samples\n",
      "102 test samples\n"
     ]
    }
   ],
   "source": [
    "(x_train, y_train), (x_test, y_test) = boston_housing.load_data()\n",
    "\n",
    "print(x_train.shape[0], 'train samples')\n",
    "print(x_test.shape[0], 'test samples')\n"
   ]
  },
  {
   "cell_type": "code",
   "execution_count": 19,
   "metadata": {},
   "outputs": [
    {
     "name": "stdout",
     "output_type": "stream",
     "text": [
      "x_train mean: [3.74511057e+00 1.14801980e+01 1.11044307e+01 6.18811881e-02\n",
      " 5.57355941e-01 6.26708168e+00 6.90106436e+01 3.74027079e+00\n",
      " 9.44059406e+00 4.05898515e+02 1.84759901e+01 3.54783168e+02\n",
      " 1.27408168e+01]\n",
      "x_train_std: [9.22929073e+00 2.37382770e+01 6.80287253e+00 2.40939633e-01\n",
      " 1.17147847e-01 7.08908627e-01 2.79060634e+01 2.02770050e+00\n",
      " 8.68758849e+00 1.66168506e+02 2.19765689e+00 9.39946015e+01\n",
      " 7.24556085e+00]\n",
      "[-0.27224633 -0.48361547 -0.43576161 -0.25683275 -0.1652266  -0.1764426\n",
      "  0.81306188  0.1166983  -0.62624905 -0.59517003  1.14850044  0.44807713\n",
      "  0.8252202 ]\n"
     ]
    }
   ],
   "source": [
    "# preparing data\n",
    "x_train_mean = x_train.mean(axis=0)\n",
    "print(f'x_train mean: {x_train_mean}')\n",
    "x_train = x_train - x_train_mean\n",
    "\n",
    "x_train_std = x_train.std(axis=0)\n",
    "print(f'x_train_std: {x_train_std}')\n",
    "x_train = x_train / x_train_std\n",
    "\n",
    "x_test = x_test - x_train_mean\n",
    "x_test = x_test / x_train_std\n",
    "print(x_train[0])\n"
   ]
  },
  {
   "cell_type": "code",
   "execution_count": 20,
   "metadata": {},
   "outputs": [],
   "source": [
    "def build_model(x):\n",
    "    inputs = keras.Input(shape=(13,))\n",
    "    x = layers.Dense(13, activation='relu', input_dim=13)(inputs)\n",
    "    x = layers.Dense(13, activation='relu')(x)\n",
    "    outputs = layers.Dense(1, activation='relu')(x)\n",
    "    \n",
    "    return keras.Model(inputs, outputs)\n"
   ]
  },
  {
   "cell_type": "code",
   "execution_count": 21,
   "metadata": {},
   "outputs": [
    {
     "name": "stdout",
     "output_type": "stream",
     "text": [
      "Train on 404 samples, validate on 102 samples\n",
      "Epoch 1/50\n",
      "404/404 [==============================] - 0s 729us/step - loss: 565.8124 - mean_absolute_error: 21.9850 - val_loss: 586.7311 - val_mean_absolute_error: 22.5186\n",
      "Epoch 2/50\n",
      "404/404 [==============================] - 0s 14us/step - loss: 558.5694 - mean_absolute_error: 21.8241 - val_loss: 579.7213 - val_mean_absolute_error: 22.3699\n",
      "Epoch 3/50\n",
      "404/404 [==============================] - 0s 13us/step - loss: 552.3043 - mean_absolute_error: 21.6824 - val_loss: 573.4104 - val_mean_absolute_error: 22.2276\n",
      "Epoch 4/50\n",
      "404/404 [==============================] - 0s 18us/step - loss: 546.5884 - mean_absolute_error: 21.5479 - val_loss: 567.5756 - val_mean_absolute_error: 22.0945\n",
      "Epoch 5/50\n",
      "404/404 [==============================] - 0s 17us/step - loss: 541.1713 - mean_absolute_error: 21.4195 - val_loss: 561.4168 - val_mean_absolute_error: 21.9557\n",
      "Epoch 6/50\n",
      "404/404 [==============================] - 0s 17us/step - loss: 535.6124 - mean_absolute_error: 21.2894 - val_loss: 555.8285 - val_mean_absolute_error: 21.8289\n",
      "Epoch 7/50\n",
      "404/404 [==============================] - 0s 20us/step - loss: 530.3914 - mean_absolute_error: 21.1672 - val_loss: 550.1664 - val_mean_absolute_error: 21.7011\n",
      "Epoch 8/50\n",
      "404/404 [==============================] - 0s 14us/step - loss: 525.1213 - mean_absolute_error: 21.0443 - val_loss: 543.9722 - val_mean_absolute_error: 21.5639\n",
      "Epoch 9/50\n",
      "404/404 [==============================] - 0s 19us/step - loss: 519.5136 - mean_absolute_error: 20.9170 - val_loss: 538.2491 - val_mean_absolute_error: 21.4299\n",
      "Epoch 10/50\n",
      "404/404 [==============================] - 0s 21us/step - loss: 514.1845 - mean_absolute_error: 20.7872 - val_loss: 532.3153 - val_mean_absolute_error: 21.2962\n",
      "Epoch 11/50\n",
      "404/404 [==============================] - 0s 18us/step - loss: 508.6181 - mean_absolute_error: 20.6584 - val_loss: 525.9258 - val_mean_absolute_error: 21.1505\n",
      "Epoch 12/50\n",
      "404/404 [==============================] - 0s 17us/step - loss: 502.7357 - mean_absolute_error: 20.5191 - val_loss: 519.7973 - val_mean_absolute_error: 21.0114\n",
      "Epoch 13/50\n",
      "404/404 [==============================] - 0s 18us/step - loss: 496.9955 - mean_absolute_error: 20.3842 - val_loss: 513.4012 - val_mean_absolute_error: 20.8598\n",
      "Epoch 14/50\n",
      "404/404 [==============================] - 0s 14us/step - loss: 491.0843 - mean_absolute_error: 20.2392 - val_loss: 507.1006 - val_mean_absolute_error: 20.7119\n",
      "Epoch 15/50\n",
      "404/404 [==============================] - 0s 18us/step - loss: 485.1807 - mean_absolute_error: 20.0948 - val_loss: 500.6555 - val_mean_absolute_error: 20.5615\n",
      "Epoch 16/50\n",
      "404/404 [==============================] - 0s 17us/step - loss: 478.9777 - mean_absolute_error: 19.9471 - val_loss: 493.6612 - val_mean_absolute_error: 20.3953\n",
      "Epoch 17/50\n",
      "404/404 [==============================] - 0s 14us/step - loss: 472.3234 - mean_absolute_error: 19.7847 - val_loss: 486.6092 - val_mean_absolute_error: 20.2274\n",
      "Epoch 18/50\n",
      "404/404 [==============================] - 0s 19us/step - loss: 465.6380 - mean_absolute_error: 19.6223 - val_loss: 479.5768 - val_mean_absolute_error: 20.0627\n",
      "Epoch 19/50\n",
      "404/404 [==============================] - 0s 14us/step - loss: 459.0266 - mean_absolute_error: 19.4638 - val_loss: 472.3068 - val_mean_absolute_error: 19.8839\n",
      "Epoch 20/50\n",
      "404/404 [==============================] - 0s 15us/step - loss: 452.0966 - mean_absolute_error: 19.2886 - val_loss: 463.8730 - val_mean_absolute_error: 19.6849\n",
      "Epoch 21/50\n",
      "404/404 [==============================] - 0s 17us/step - loss: 444.2803 - mean_absolute_error: 19.0993 - val_loss: 455.3304 - val_mean_absolute_error: 19.4819\n",
      "Epoch 22/50\n",
      "404/404 [==============================] - 0s 19us/step - loss: 436.4079 - mean_absolute_error: 18.9021 - val_loss: 447.0434 - val_mean_absolute_error: 19.2771\n",
      "Epoch 23/50\n",
      "404/404 [==============================] - 0s 14us/step - loss: 428.7064 - mean_absolute_error: 18.7052 - val_loss: 438.6645 - val_mean_absolute_error: 19.0667\n",
      "Epoch 24/50\n",
      "404/404 [==============================] - 0s 21us/step - loss: 420.8584 - mean_absolute_error: 18.5080 - val_loss: 429.6307 - val_mean_absolute_error: 18.8374\n",
      "Epoch 25/50\n",
      "404/404 [==============================] - 0s 16us/step - loss: 412.4074 - mean_absolute_error: 18.2872 - val_loss: 420.1502 - val_mean_absolute_error: 18.5925\n",
      "Epoch 26/50\n",
      "404/404 [==============================] - 0s 21us/step - loss: 403.5066 - mean_absolute_error: 18.0549 - val_loss: 411.3884 - val_mean_absolute_error: 18.3646\n",
      "Epoch 27/50\n",
      "404/404 [==============================] - 0s 14us/step - loss: 395.1320 - mean_absolute_error: 17.8341 - val_loss: 401.6786 - val_mean_absolute_error: 18.1077\n",
      "Epoch 28/50\n",
      "404/404 [==============================] - 0s 20us/step - loss: 385.9871 - mean_absolute_error: 17.5877 - val_loss: 392.1238 - val_mean_absolute_error: 17.8486\n",
      "Epoch 29/50\n",
      "404/404 [==============================] - 0s 18us/step - loss: 376.8552 - mean_absolute_error: 17.3374 - val_loss: 381.9828 - val_mean_absolute_error: 17.5732\n",
      "Epoch 30/50\n",
      "404/404 [==============================] - 0s 19us/step - loss: 367.2851 - mean_absolute_error: 17.0786 - val_loss: 372.0468 - val_mean_absolute_error: 17.2843\n",
      "Epoch 31/50\n",
      "404/404 [==============================] - 0s 21us/step - loss: 357.8536 - mean_absolute_error: 16.8047 - val_loss: 361.0672 - val_mean_absolute_error: 16.9696\n",
      "Epoch 32/50\n",
      "404/404 [==============================] - 0s 17us/step - loss: 347.5263 - mean_absolute_error: 16.5156 - val_loss: 350.0425 - val_mean_absolute_error: 16.6591\n",
      "Epoch 33/50\n",
      "404/404 [==============================] - 0s 19us/step - loss: 337.1680 - mean_absolute_error: 16.2211 - val_loss: 339.6680 - val_mean_absolute_error: 16.3726\n",
      "Epoch 34/50\n",
      "404/404 [==============================] - 0s 21us/step - loss: 327.1614 - mean_absolute_error: 15.9487 - val_loss: 327.6819 - val_mean_absolute_error: 16.0292\n",
      "Epoch 35/50\n",
      "404/404 [==============================] - 0s 15us/step - loss: 316.0164 - mean_absolute_error: 15.6285 - val_loss: 317.3050 - val_mean_absolute_error: 15.7228\n",
      "Epoch 36/50\n",
      "404/404 [==============================] - 0s 22us/step - loss: 306.2092 - mean_absolute_error: 15.3447 - val_loss: 306.5675 - val_mean_absolute_error: 15.4130\n",
      "Epoch 37/50\n",
      "404/404 [==============================] - 0s 16us/step - loss: 295.9683 - mean_absolute_error: 15.0566 - val_loss: 295.3510 - val_mean_absolute_error: 15.0853\n",
      "Epoch 38/50\n",
      "404/404 [==============================] - 0s 17us/step - loss: 285.3085 - mean_absolute_error: 14.7495 - val_loss: 283.7132 - val_mean_absolute_error: 14.7431\n",
      "Epoch 39/50\n",
      "404/404 [==============================] - 0s 21us/step - loss: 274.3024 - mean_absolute_error: 14.4277 - val_loss: 273.3256 - val_mean_absolute_error: 14.4262\n",
      "Epoch 40/50\n",
      "404/404 [==============================] - 0s 20us/step - loss: 264.2624 - mean_absolute_error: 14.1222 - val_loss: 262.4908 - val_mean_absolute_error: 14.0956\n",
      "Epoch 41/50\n",
      "404/404 [==============================] - 0s 15us/step - loss: 253.8295 - mean_absolute_error: 13.8070 - val_loss: 251.4451 - val_mean_absolute_error: 13.7506\n",
      "Epoch 42/50\n",
      "404/404 [==============================] - 0s 22us/step - loss: 243.1658 - mean_absolute_error: 13.4767 - val_loss: 240.7194 - val_mean_absolute_error: 13.4076\n",
      "Epoch 43/50\n",
      "404/404 [==============================] - 0s 16us/step - loss: 232.7833 - mean_absolute_error: 13.1447 - val_loss: 230.0995 - val_mean_absolute_error: 13.0733\n",
      "Epoch 44/50\n",
      "404/404 [==============================] - 0s 17us/step - loss: 222.4605 - mean_absolute_error: 12.8226 - val_loss: 219.5417 - val_mean_absolute_error: 12.7406\n",
      "Epoch 45/50\n",
      "404/404 [==============================] - 0s 15us/step - loss: 212.2195 - mean_absolute_error: 12.4889 - val_loss: 209.1554 - val_mean_absolute_error: 12.4078\n",
      "Epoch 46/50\n",
      "404/404 [==============================] - 0s 24us/step - loss: 202.2745 - mean_absolute_error: 12.1577 - val_loss: 199.6047 - val_mean_absolute_error: 12.0882\n",
      "Epoch 47/50\n",
      "404/404 [==============================] - 0s 12us/step - loss: 192.9432 - mean_absolute_error: 11.8403 - val_loss: 190.3661 - val_mean_absolute_error: 11.7653\n",
      "Epoch 48/50\n",
      "404/404 [==============================] - 0s 15us/step - loss: 183.7456 - mean_absolute_error: 11.5151 - val_loss: 179.8799 - val_mean_absolute_error: 11.3876\n",
      "Epoch 49/50\n",
      "404/404 [==============================] - 0s 19us/step - loss: 173.6747 - mean_absolute_error: 11.1578 - val_loss: 170.8654 - val_mean_absolute_error: 11.0498\n",
      "Epoch 50/50\n",
      "404/404 [==============================] - 0s 21us/step - loss: 164.8278 - mean_absolute_error: 10.8337 - val_loss: 161.7741 - val_mean_absolute_error: 10.7057\n",
      "Test loss: 161.77407447964538\n",
      "Mean absolute error: 10.7057284747853\n"
     ]
    }
   ],
   "source": [
    "model_1 = build_model(x_train)\n",
    "model_1.compile(optimizer='rmsprop', loss='mse',metrics=['mae'])\n",
    "history = model_1.fit(x_train, y_train,\n",
    "                    batch_size=batch_size,\n",
    "                    epochs=epochs,\n",
    "                    verbose=1,\n",
    "                    validation_data=(x_test, y_test))\n",
    "\n",
    "\n",
    "score = model_1.evaluate(x_test, y_test, verbose=0)\n",
    "print('Test loss:', score[0])\n",
    "print('Mean absolute error:', score[1])\n"
   ]
  },
  {
   "cell_type": "code",
   "execution_count": 23,
   "metadata": {},
   "outputs": [
    {
     "name": "stdout",
     "output_type": "stream",
     "text": [
      "Processing fold # 0\n",
      "Processing fold # 1\n",
      "Processing fold # 2\n",
      "Processing fold # 3\n",
      "Processing fold # 4\n",
      "Processing fold # 5\n",
      "Processing fold # 6\n",
      "Processing fold # 7\n",
      "Processing fold # 8\n",
      "Processing fold # 9\n"
     ]
    }
   ],
   "source": [
    "# K-Fold\n",
    "k = 10\n",
    "\n",
    "num_val_samples = len(x_train) // k\n",
    "num_epochs = 100\n",
    "all_scores = []\n",
    "\n",
    "for i in range(k):\n",
    "    print(f'Processing fold # {i}')\n",
    "    val_data = x_train[i * num_val_samples: (i+1) * num_val_samples]\n",
    "    val_targets = y_train[i * num_val_samples: (i+1) * num_val_samples]\n",
    "    \n",
    "    partial_train_data = np.concatenate(\n",
    "                            [x_train[:i * num_val_samples],\n",
    "                            x_train[(i+1) * num_val_samples:]],\n",
    "                            axis=0)\n",
    "    partial_train_targets = np.concatenate(\n",
    "                            [y_train[:i * num_val_samples],\n",
    "                            y_train[(i+1)*num_val_samples:]],\n",
    "                            axis=0)\n",
    "    \n",
    "    model = build_model(val_data)\n",
    "    model.compile(optimizer='rmsprop', loss='mse',metrics=['mae'])\n",
    "    model.fit(partial_train_data,\n",
    "              partial_train_targets,\n",
    "              epochs=num_epochs,\n",
    "              batch_size=1,\n",
    "              verbose=0)\n",
    "    val_mse, val_mae = model.evaluate(val_data, val_targets, verbose=0)\n",
    "    all_scores.append(val_mae)"
   ]
  },
  {
   "cell_type": "code",
   "execution_count": 24,
   "metadata": {},
   "outputs": [
    {
     "name": "stdout",
     "output_type": "stream",
     "text": [
      "all_scores : [2.237153482437134, 1.7297253608703613, 2.408651828765869, 2.282996940612793, 1.8541862726211549, 2.5495321273803713, 2.4828954219818113, 2.635839509963989, 2.734862804412842, 2.3930062294006347]\n",
      "mean all scores : 2.330884997844696\n"
     ]
    }
   ],
   "source": [
    "print(f'all_scores : {all_scores}')\n",
    "print(f'mean all scores : {np.mean(all_scores)}')"
   ]
  },
  {
   "cell_type": "code",
   "execution_count": null,
   "metadata": {},
   "outputs": [],
   "source": []
  },
  {
   "cell_type": "code",
   "execution_count": null,
   "metadata": {},
   "outputs": [],
   "source": []
  },
  {
   "cell_type": "code",
   "execution_count": null,
   "metadata": {},
   "outputs": [],
   "source": []
  }
 ],
 "metadata": {
  "kernelspec": {
   "display_name": "Python 3",
   "language": "python",
   "name": "python3"
  },
  "language_info": {
   "codemirror_mode": {
    "name": "ipython",
    "version": 3
   },
   "file_extension": ".py",
   "mimetype": "text/x-python",
   "name": "python",
   "nbconvert_exporter": "python",
   "pygments_lexer": "ipython3",
   "version": "3.7.3"
  },
  "pycharm": {
   "stem_cell": {
    "cell_type": "raw",
    "metadata": {
     "collapsed": false
    },
    "source": []
   }
  }
 },
 "nbformat": 4,
 "nbformat_minor": 1
}
