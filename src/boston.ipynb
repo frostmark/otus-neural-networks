{
 "cells": [
  {
   "cell_type": "code",
   "execution_count": 1,
   "metadata": {
    "pycharm": {
     "name": "#%%\n"
    }
   },
   "outputs": [
    {
     "name": "stderr",
     "output_type": "stream",
     "text": [
      "Using TensorFlow backend.\n"
     ]
    }
   ],
   "source": [
    "from __future__ import print_function\n",
    "\n",
    "import keras\n",
    "from keras.datasets import boston_housing\n",
    "from keras.models import Sequential\n",
    "from keras.layers import Dense, Dropout\n",
    "from keras.optimizers import RMSprop\n",
    "from keras import layers\n",
    "\n",
    "import matplotlib.pyplot as plt\n",
    "\n",
    "import numpy as np"
   ]
  },
  {
   "cell_type": "code",
   "execution_count": 2,
   "metadata": {
    "pycharm": {
     "name": "#%%\n"
    }
   },
   "outputs": [],
   "source": [
    "batch_size = 128\n",
    "num_classes = 10\n",
    "epochs = 50\n"
   ]
  },
  {
   "cell_type": "code",
   "execution_count": 3,
   "metadata": {
    "scrolled": false
   },
   "outputs": [
    {
     "name": "stdout",
     "output_type": "stream",
     "text": [
      "404 train samples\n",
      "102 test samples\n"
     ]
    }
   ],
   "source": [
    "(x_train, y_train), (x_test, y_test) = boston_housing.load_data()\n",
    "\n",
    "print(x_train.shape[0], 'train samples')\n",
    "print(x_test.shape[0], 'test samples')\n"
   ]
  },
  {
   "cell_type": "code",
   "execution_count": 4,
   "metadata": {},
   "outputs": [
    {
     "name": "stdout",
     "output_type": "stream",
     "text": [
      "x_train mean: [3.74511057e+00 1.14801980e+01 1.11044307e+01 6.18811881e-02\n",
      " 5.57355941e-01 6.26708168e+00 6.90106436e+01 3.74027079e+00\n",
      " 9.44059406e+00 4.05898515e+02 1.84759901e+01 3.54783168e+02\n",
      " 1.27408168e+01]\n",
      "x_train_std: [9.22929073e+00 2.37382770e+01 6.80287253e+00 2.40939633e-01\n",
      " 1.17147847e-01 7.08908627e-01 2.79060634e+01 2.02770050e+00\n",
      " 8.68758849e+00 1.66168506e+02 2.19765689e+00 9.39946015e+01\n",
      " 7.24556085e+00]\n",
      "[-0.27224633 -0.48361547 -0.43576161 -0.25683275 -0.1652266  -0.1764426\n",
      "  0.81306188  0.1166983  -0.62624905 -0.59517003  1.14850044  0.44807713\n",
      "  0.8252202 ]\n"
     ]
    }
   ],
   "source": [
    "# preparing data\n",
    "x_train_mean = x_train.mean(axis=0)\n",
    "print(f'x_train mean: {x_train_mean}')\n",
    "x_train = x_train - x_train_mean\n",
    "\n",
    "x_train_std = x_train.std(axis=0)\n",
    "print(f'x_train_std: {x_train_std}')\n",
    "x_train = x_train / x_train_std\n",
    "\n",
    "x_test = x_test - x_train_mean\n",
    "x_test = x_test / x_train_std\n",
    "print(x_train[0])\n"
   ]
  },
  {
   "cell_type": "code",
   "execution_count": null,
   "metadata": {},
   "outputs": [],
   "source": [
    "def build_model(x):\n",
    "    inputs = keras.Input(shape=(13,))\n",
    "    x = layers.Dense(13, activation='relu', input_dim=13)(inputs)\n",
    "    x = layers.Dense(13, activation='relu')(x)\n",
    "    outputs = layers.Dense(1, activation='relu')(x)\n",
    "    \n",
    "    return keras.Model(inputs, outputs)\n"
   ]
  },
  {
   "cell_type": "code",
   "execution_count": null,
   "metadata": {},
   "outputs": [
    {
     "name": "stdout",
     "output_type": "stream",
     "text": [
      "WARNING:tensorflow:From /usr/local/lib/python3.7/site-packages/tensorflow/python/framework/op_def_library.py:263: colocate_with (from tensorflow.python.framework.ops) is deprecated and will be removed in a future version.\n",
      "Instructions for updating:\n",
      "Colocations handled automatically by placer.\n",
      "WARNING:tensorflow:From /usr/local/lib/python3.7/site-packages/tensorflow/python/ops/math_ops.py:3066: to_int32 (from tensorflow.python.ops.math_ops) is deprecated and will be removed in a future version.\n",
      "Instructions for updating:\n",
      "Use tf.cast instead.\n",
      "Train on 404 samples, validate on 102 samples\n",
      "Epoch 1/50\n",
      "404/404 [==============================] - 0s 552us/step - loss: 565.8116 - mean_absolute_error: 21.9850 - val_loss: 586.7310 - val_mean_absolute_error: 22.5187\n",
      "Epoch 2/50\n",
      "404/404 [==============================] - 0s 13us/step - loss: 558.5703 - mean_absolute_error: 21.8242 - val_loss: 579.7244 - val_mean_absolute_error: 22.3700\n",
      "Epoch 3/50\n",
      "404/404 [==============================] - 0s 21us/step - loss: 552.3072 - mean_absolute_error: 21.6825 - val_loss: 573.4131 - val_mean_absolute_error: 22.2277\n",
      "Epoch 4/50\n",
      "404/404 [==============================] - 0s 17us/step - loss: 546.5915 - mean_absolute_error: 21.5480 - val_loss: 567.5785 - val_mean_absolute_error: 22.0946\n",
      "Epoch 5/50\n",
      "404/404 [==============================] - 0s 27us/step - loss: 541.1745 - mean_absolute_error: 21.4196 - val_loss: 561.4198 - val_mean_absolute_error: 21.9557\n",
      "Epoch 6/50\n",
      "404/404 [==============================] - 0s 20us/step - loss: 535.6157 - mean_absolute_error: 21.2895 - val_loss: 555.8318 - val_mean_absolute_error: 21.8290\n",
      "Epoch 7/50\n",
      "404/404 [==============================] - 0s 26us/step - loss: 530.3934 - mean_absolute_error: 21.1672 - val_loss: 550.1682 - val_mean_absolute_error: 21.7011\n",
      "Epoch 8/50\n",
      "404/404 [==============================] - 0s 22us/step - loss: 525.1241 - mean_absolute_error: 21.0444 - val_loss: 543.9769 - val_mean_absolute_error: 21.5640\n",
      "Epoch 9/50\n",
      "404/404 [==============================] - 0s 23us/step - loss: 519.5181 - mean_absolute_error: 20.9171 - val_loss: 538.2537 - val_mean_absolute_error: 21.4301\n",
      "Epoch 10/50\n",
      "404/404 [==============================] - 0s 18us/step - loss: 514.1889 - mean_absolute_error: 20.7873 - val_loss: 532.3198 - val_mean_absolute_error: 21.2963\n",
      "Epoch 11/50\n",
      "404/404 [==============================] - 0s 17us/step - loss: 508.6226 - mean_absolute_error: 20.6585 - val_loss: 525.9307 - val_mean_absolute_error: 21.1506\n",
      "Epoch 12/50\n",
      "404/404 [==============================] - 0s 27us/step - loss: 502.7403 - mean_absolute_error: 20.5192 - val_loss: 519.8022 - val_mean_absolute_error: 21.0115\n",
      "Epoch 13/50\n",
      "404/404 [==============================] - 0s 16us/step - loss: 497.0013 - mean_absolute_error: 20.3843 - val_loss: 513.4092 - val_mean_absolute_error: 20.8600\n",
      "Epoch 14/50\n",
      "404/404 [==============================] - 0s 30us/step - loss: 491.0915 - mean_absolute_error: 20.2394 - val_loss: 507.1075 - val_mean_absolute_error: 20.7121\n",
      "Epoch 15/50\n",
      "404/404 [==============================] - 0s 19us/step - loss: 485.1870 - mean_absolute_error: 20.0950 - val_loss: 500.6618 - val_mean_absolute_error: 20.5617\n",
      "Epoch 16/50\n",
      "404/404 [==============================] - 0s 22us/step - loss: 478.9836 - mean_absolute_error: 19.9473 - val_loss: 493.6670 - val_mean_absolute_error: 20.3955\n",
      "Epoch 17/50\n",
      "404/404 [==============================] - 0s 36us/step - loss: 472.3289 - mean_absolute_error: 19.7849 - val_loss: 486.6122 - val_mean_absolute_error: 20.2275\n",
      "Epoch 18/50\n",
      "404/404 [==============================] - 0s 22us/step - loss: 465.6414 - mean_absolute_error: 19.6224 - val_loss: 479.5810 - val_mean_absolute_error: 20.0628\n",
      "Epoch 19/50\n",
      "404/404 [==============================] - 0s 22us/step - loss: 459.0311 - mean_absolute_error: 19.4639 - val_loss: 472.3113 - val_mean_absolute_error: 19.8840\n",
      "Epoch 20/50\n",
      "404/404 [==============================] - 0s 29us/step - loss: 452.0993 - mean_absolute_error: 19.2888 - val_loss: 463.8749 - val_mean_absolute_error: 19.6850\n",
      "Epoch 21/50\n",
      "404/404 [==============================] - 0s 29us/step - loss: 444.2842 - mean_absolute_error: 19.0994 - val_loss: 455.3361 - val_mean_absolute_error: 19.4821\n",
      "Epoch 22/50\n",
      "404/404 [==============================] - 0s 27us/step - loss: 436.4113 - mean_absolute_error: 18.9023 - val_loss: 447.0462 - val_mean_absolute_error: 19.2772\n",
      "Epoch 23/50\n",
      "404/404 [==============================] - 0s 17us/step - loss: 428.7090 - mean_absolute_error: 18.7054 - val_loss: 438.6673 - val_mean_absolute_error: 19.0669\n",
      "Epoch 24/50\n",
      "404/404 [==============================] - 0s 31us/step - loss: 420.8614 - mean_absolute_error: 18.5082 - val_loss: 429.6307 - val_mean_absolute_error: 18.8374\n",
      "Epoch 25/50\n",
      "404/404 [==============================] - 0s 23us/step - loss: 412.4082 - mean_absolute_error: 18.2873 - val_loss: 420.1519 - val_mean_absolute_error: 18.5926\n",
      "Epoch 26/50\n",
      "404/404 [==============================] - 0s 29us/step - loss: 403.5090 - mean_absolute_error: 18.0550 - val_loss: 411.3909 - val_mean_absolute_error: 18.3647\n",
      "Epoch 27/50\n",
      "404/404 [==============================] - 0s 28us/step - loss: 395.1330 - mean_absolute_error: 17.8342 - val_loss: 401.6792 - val_mean_absolute_error: 18.1078\n",
      "Epoch 28/50\n",
      "404/404 [==============================] - 0s 26us/step - loss: 385.9888 - mean_absolute_error: 17.5878 - val_loss: 392.1229 - val_mean_absolute_error: 17.8486\n",
      "Epoch 29/50\n",
      "404/404 [==============================] - 0s 32us/step - loss: 376.8555 - mean_absolute_error: 17.3375 - val_loss: 381.9840 - val_mean_absolute_error: 17.5733\n",
      "Epoch 30/50\n",
      "404/404 [==============================] - 0s 19us/step - loss: 367.2867 - mean_absolute_error: 17.0787 - val_loss: 372.0477 - val_mean_absolute_error: 17.2844\n",
      "Epoch 31/50\n",
      "404/404 [==============================] - 0s 30us/step - loss: 357.8550 - mean_absolute_error: 16.8049 - val_loss: 361.0679 - val_mean_absolute_error: 16.9697\n",
      "Epoch 32/50\n",
      "404/404 [==============================] - 0s 21us/step - loss: 347.5274 - mean_absolute_error: 16.5158 - val_loss: 350.0430 - val_mean_absolute_error: 16.6592\n",
      "Epoch 33/50\n",
      "404/404 [==============================] - 0s 29us/step - loss: 337.1689 - mean_absolute_error: 16.2213 - val_loss: 339.6679 - val_mean_absolute_error: 16.3727\n",
      "Epoch 34/50\n",
      "404/404 [==============================] - 0s 17us/step - loss: 327.1618 - mean_absolute_error: 15.9489 - val_loss: 327.6813 - val_mean_absolute_error: 16.0293\n",
      "Epoch 35/50\n",
      "404/404 [==============================] - 0s 30us/step - loss: 316.0166 - mean_absolute_error: 15.6286 - val_loss: 317.3071 - val_mean_absolute_error: 15.7230\n",
      "Epoch 36/50\n",
      "404/404 [==============================] - 0s 23us/step - loss: 306.2122 - mean_absolute_error: 15.3449 - val_loss: 306.5688 - val_mean_absolute_error: 15.4131\n",
      "Epoch 37/50\n",
      "404/404 [==============================] - 0s 29us/step - loss: 295.9702 - mean_absolute_error: 15.0568 - val_loss: 295.3507 - val_mean_absolute_error: 15.0854\n",
      "Epoch 38/50\n",
      "404/404 [==============================] - 0s 31us/step - loss: 285.3091 - mean_absolute_error: 14.7497 - val_loss: 283.7115 - val_mean_absolute_error: 14.7432\n",
      "Epoch 39/50\n",
      "404/404 [==============================] - 0s 35us/step - loss: 274.3014 - mean_absolute_error: 14.4277 - val_loss: 273.3198 - val_mean_absolute_error: 14.4261\n",
      "Epoch 40/50\n",
      "404/404 [==============================] - 0s 24us/step - loss: 264.2591 - mean_absolute_error: 14.1222 - val_loss: 262.4862 - val_mean_absolute_error: 14.0955\n",
      "Epoch 41/50\n",
      "404/404 [==============================] - 0s 16us/step - loss: 253.8266 - mean_absolute_error: 13.8070 - val_loss: 251.4410 - val_mean_absolute_error: 13.7506\n",
      "Epoch 42/50\n",
      "404/404 [==============================] - 0s 28us/step - loss: 243.1617 - mean_absolute_error: 13.4767 - val_loss: 240.7124 - val_mean_absolute_error: 13.4074\n",
      "Epoch 43/50\n",
      "404/404 [==============================] - 0s 23us/step - loss: 232.7779 - mean_absolute_error: 13.1446 - val_loss: 230.0937 - val_mean_absolute_error: 13.0731\n",
      "Epoch 44/50\n",
      "404/404 [==============================] - 0s 27us/step - loss: 222.4560 - mean_absolute_error: 12.8225 - val_loss: 219.5365 - val_mean_absolute_error: 12.7404\n",
      "Epoch 45/50\n"
     ]
    },
    {
     "name": "stdout",
     "output_type": "stream",
     "text": [
      "404/404 [==============================] - 0s 26us/step - loss: 212.2155 - mean_absolute_error: 12.4889 - val_loss: 209.1505 - val_mean_absolute_error: 12.4076\n",
      "Epoch 46/50\n",
      "404/404 [==============================] - 0s 22us/step - loss: 202.2709 - mean_absolute_error: 12.1577 - val_loss: 199.6005 - val_mean_absolute_error: 12.0880\n",
      "Epoch 47/50\n",
      "404/404 [==============================] - 0s 31us/step - loss: 192.9377 - mean_absolute_error: 11.8402 - val_loss: 190.3585 - val_mean_absolute_error: 11.7650\n",
      "Epoch 48/50\n",
      "404/404 [==============================] - 0s 14us/step - loss: 183.7388 - mean_absolute_error: 11.5149 - val_loss: 179.8740 - val_mean_absolute_error: 11.3874\n",
      "Epoch 49/50\n",
      "404/404 [==============================] - 0s 32us/step - loss: 173.6676 - mean_absolute_error: 11.1575 - val_loss: 170.8584 - val_mean_absolute_error: 11.0496\n",
      "Epoch 50/50\n",
      "404/404 [==============================] - 0s 22us/step - loss: 164.8214 - mean_absolute_error: 10.8335 - val_loss: 161.7685 - val_mean_absolute_error: 10.7055\n",
      "Test loss: 161.76849095961626\n",
      "Mean absolute error: 10.705521620956121\n"
     ]
    }
   ],
   "source": [
    "model_1 = build_model(x_train)\n",
    "model_1.compile(optimizer='rmsprop', loss='mse',metrics=['mae'])\n",
    "history = model_1.fit(x_train, y_train,\n",
    "                    batch_size=batch_size,\n",
    "                    epochs=epochs,\n",
    "                    verbose=1,\n",
    "                    validation_data=(x_test, y_test))\n",
    "\n",
    "\n",
    "score = model_1.evaluate(x_test, y_test, verbose=0)\n",
    "print('Test loss:', score[0])\n",
    "print('Mean absolute error:', score[1])\n"
   ]
  },
  {
   "cell_type": "code",
   "execution_count": null,
   "metadata": {},
   "outputs": [
    {
     "name": "stdout",
     "output_type": "stream",
     "text": [
      "Processing fold # 0\n",
      "Processing fold # 1\n",
      "Processing fold # 2\n",
      "Processing fold # 3\n",
      "Processing fold # 4\n",
      "Processing fold # 5\n",
      "Processing fold # 6\n",
      "Processing fold # 7\n"
     ]
    }
   ],
   "source": [
    "# K-Fold\n",
    "k = 10\n",
    "\n",
    "num_val_samples = len(x_train) // k\n",
    "num_epochs = 100\n",
    "all_scores = []\n",
    "\n",
    "for i in range(k):\n",
    "    print(f'Processing fold # {i}')\n",
    "    val_data = x_train[i * num_val_samples: (i+1) * num_val_samples]\n",
    "    val_targets = y_train[i * num_val_samples: (i+1) * num_val_samples]\n",
    "    \n",
    "    partial_train_data = np.concatenate(\n",
    "                            [x_train[:i * num_val_samples],\n",
    "                            x_train[(i+1) * num_val_samples:]],\n",
    "                            axis=0)\n",
    "    partial_train_targets = np.concatenate(\n",
    "                            [y_train[:i * num_val_samples],\n",
    "                            y_train[(i+1)*num_val_samples:]],\n",
    "                            axis=0)\n",
    "    \n",
    "    model = build_model(val_data)\n",
    "    model.compile(optimizer='rmsprop', loss='mse',metrics=['mae'])\n",
    "    model.fit(partial_train_data,\n",
    "              partial_train_targets,\n",
    "              epochs=num_epochs,\n",
    "              batch_size=1,\n",
    "              verbose=0)\n",
    "    val_mse, val_mae = model.evaluate(val_data, val_targets, verbose=0)\n",
    "    all_scores.append(val_mae)"
   ]
  },
  {
   "cell_type": "code",
   "execution_count": null,
   "metadata": {},
   "outputs": [],
   "source": [
    "print(f'all_scores : {all_scores}')\n",
    "print(f'mean all scores : {np.mean(all_scores)}')"
   ]
  },
  {
   "cell_type": "code",
   "execution_count": null,
   "metadata": {},
   "outputs": [],
   "source": []
  },
  {
   "cell_type": "code",
   "execution_count": null,
   "metadata": {},
   "outputs": [],
   "source": []
  },
  {
   "cell_type": "code",
   "execution_count": null,
   "metadata": {},
   "outputs": [],
   "source": []
  }
 ],
 "metadata": {
  "kernelspec": {
   "display_name": "Python 3",
   "language": "python",
   "name": "python3"
  },
  "language_info": {
   "codemirror_mode": {
    "name": "ipython",
    "version": 3
   },
   "file_extension": ".py",
   "mimetype": "text/x-python",
   "name": "python",
   "nbconvert_exporter": "python",
   "pygments_lexer": "ipython3",
   "version": "3.7.3"
  },
  "pycharm": {
   "stem_cell": {
    "cell_type": "raw",
    "metadata": {
     "collapsed": false
    },
    "source": []
   }
  }
 },
 "nbformat": 4,
 "nbformat_minor": 1
}
